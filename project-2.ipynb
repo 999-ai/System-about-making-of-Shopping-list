{
 "cells": [
  {
   "cell_type": "code",
   "execution_count": 26,
   "id": "c3d689d0-894f-4c23-9e30-d207ab893639",
   "metadata": {},
   "outputs": [
    {
     "name": "stdout",
     "output_type": "stream",
     "text": [
      "[{'product': 'apple', 'price': 5, 'quantity': 6}, {'product': 'pear', 'price': 2, 'quantity': 10}, {'product': 'banana', 'price': 9, 'quantity': 7}]\n"
     ]
    },
    {
     "name": "stdin",
     "output_type": "stream",
     "text": [
      "which price of product do you want to change? apple\n",
      "tell me new price 6\n",
      "tell me new quantity 4\n"
     ]
    },
    {
     "name": "stdout",
     "output_type": "stream",
     "text": [
      "{'product': 'apple', 'price': 6, 'quantity': 4}\n",
      "[{'product': 'apple', 'price': 6, 'quantity': 4}, {'product': 'pear', 'price': 2, 'quantity': 10}, {'product': 'banana', 'price': 9, 'quantity': 7}]\n",
      "the price  and quantity of apple is changed to {'price': 6, 'quantity': 4}\n"
     ]
    },
    {
     "name": "stdin",
     "output_type": "stream",
     "text": [
      "which product do not you like? apple\n"
     ]
    },
    {
     "name": "stdout",
     "output_type": "stream",
     "text": [
      "[{'product': 'pear', 'price': 2, 'quantity': 10}, {'product': 'banana', 'price': 9, 'quantity': 7}]\n",
      "apple is cleared from the shopping list\n",
      "product : pear price : 2 quantity : 10\n",
      "product : banana price : 9 quantity : 7\n",
      "The shopping list is above\n",
      "the total cost of products in the list is 83\n",
      "the total cost is above\n"
     ]
    }
   ],
   "source": [
    "shopping_list=[]\n",
    "\n",
    "\n",
    "def making_shoppinglist(product,price,quantity):\n",
    "    \n",
    "   dictionary={\"product\":product,\"price\":price,\"quantity\":quantity}\n",
    "   \n",
    "   shopping_list.append(dictionary)\n",
    "\n",
    "\n",
    "making_shoppinglist(\"apple\",5,6)\n",
    "making_shoppinglist(\"pear\",2,10)\n",
    "making_shoppinglist(\"banana\",9,7)\n",
    "print(shopping_list)\n",
    "\n",
    "wantedproduct=input(\"which price of product do you want to change?\")\n",
    "newchangedprice=int(input(\"tell me new price\"))\n",
    "newchangedquantity=int(input(\"tell me new quantity\"))\n",
    "newinfo={\"price\":newchangedprice,\"quantity\":newchangedquantity}\n",
    "\n",
    "def updating(product,newinfo):\n",
    "   \n",
    "    \n",
    "    for dictionary in shopping_list:\n",
    "      if dictionary[\"product\"] .lower()==wantedproduct.lower():\n",
    "         dictionary.update(newinfo)\n",
    "         print(dictionary)\n",
    "         return\n",
    "\n",
    "    print(f\"The product ,{wantedproduct} is not found\")\n",
    "\n",
    "updating(wantedproduct,newinfo)\n",
    "\n",
    "print(shopping_list)\n",
    "print(f\"the price  and quantity of {wantedproduct} is changed to {newinfo}\")\n",
    "\n",
    "\n",
    "unwantedproduct=input(\"which product do not you like?\")\n",
    "def deleting(unwantedproduct):\n",
    "\n",
    " for dictionary in shopping_list:\n",
    "     if dictionary[\"product\"].lower()==unwantedproduct.lower():\n",
    "      shopping_list.remove(dictionary) \n",
    "      return\n",
    " if not unwantedproduct  in dictionary: \n",
    "  print(f\"there is no{unwantedproduct} in the list\")\n",
    " \n",
    "deleting(unwantedproduct)\n",
    "\n",
    "print(shopping_list)\n",
    "print(f\"{unwantedproduct} is cleared from the shopping list\")\n",
    "\n",
    "\n",
    "def displaying():\n",
    " if not shopping_list:\n",
    "     print(\"The shopping_list is empty\")\n",
    "     return\n",
    " for dictionary in shopping_list:\n",
    "    print(\"product\",\":\",dictionary[\"product\"],\"price\",\":\",dictionary[\"price\"],\"quantity\",\":\",dictionary[\"quantity\"])\n",
    "    \n",
    "displaying()\n",
    "print(\"The shopping list is above\")\n",
    "\n",
    "def calculating():\n",
    " sum=0\n",
    " for dictionary in shopping_list:\n",
    "  cost=dictionary[\"price\"]*dictionary[\"quantity\"]\n",
    "  sum=cost+sum\n",
    " print(f\"the total cost of products in the list is {sum}\")\n",
    "\n",
    "calculating()\n",
    "print(\"the total cost is above\")  \n",
    "\n"
   ]
  },
  {
   "cell_type": "code",
   "execution_count": null,
   "id": "783c2bf5-fda0-4405-92c9-483c83234c33",
   "metadata": {},
   "outputs": [],
   "source": []
  }
 ],
 "metadata": {
  "kernelspec": {
   "display_name": "Python 3 (ipykernel)",
   "language": "python",
   "name": "python3"
  },
  "language_info": {
   "codemirror_mode": {
    "name": "ipython",
    "version": 3
   },
   "file_extension": ".py",
   "mimetype": "text/x-python",
   "name": "python",
   "nbconvert_exporter": "python",
   "pygments_lexer": "ipython3",
   "version": "3.12.4"
  }
 },
 "nbformat": 4,
 "nbformat_minor": 5
}
